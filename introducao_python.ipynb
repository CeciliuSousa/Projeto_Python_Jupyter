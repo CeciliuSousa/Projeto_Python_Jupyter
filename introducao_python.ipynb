{
 "cells": [
  {
   "cell_type": "code",
   "execution_count": null,
   "metadata": {},
   "outputs": [
    {
     "name": "stdout",
     "output_type": "stream",
     "text": [
      "Olá, Python!\n",
      "Olá, Python!\n"
     ]
    }
   ],
   "source": [
    "# Monstrando uma mensagem na tela\n",
    "\n",
    "print('Olá, Python!')\n",
    "print(\"Olá, Python!\")\n",
    "\n",
    "# saída => Olá, Python!\n",
    "# saída => Olá, Python!"
   ]
  },
  {
   "cell_type": "code",
   "execution_count": null,
   "metadata": {},
   "outputs": [],
   "source": [
    "# Comentário com apenas uma linha\n",
    "\n",
    "'''\n",
    "Comentário\n",
    "com\n",
    "várias\n",
    "linhas\n",
    "'''"
   ]
  },
  {
   "cell_type": "code",
   "execution_count": null,
   "metadata": {},
   "outputs": [
    {
     "name": "stdout",
     "output_type": "stream",
     "text": [
      "Cecilius tem 27 anos e 1.75 metros de altura.\n",
      "Cecilius tem 27 anos e 1.75 metros de altura.\n"
     ]
    }
   ],
   "source": [
    "# Armazenando informações\n",
    "\n",
    "nome = \"Cecilius\"                       # Str\n",
    "idade = 27                              # int\n",
    "altura = 1.75                           # float\n",
    "eh_maior_de_idade = idade >= 18\n",
    "\n",
    "# Exibindo informações formatadas\n",
    "\n",
    "print(f\"{nome} tem {idade} anos e {altura} metros de altura.\")\n",
    "print(nome, \"tem\", idade, \"anos e\", altura, \"metros de altura.\")\n",
    "\n",
    "# saída => Cecilius tem 27 anos e 1.75 metros de altura.\n",
    "# saída => Cecilius tem 27 anos e 1.75 metros de altura."
   ]
  },
  {
   "cell_type": "code",
   "execution_count": null,
   "metadata": {},
   "outputs": [
    {
     "name": "stdout",
     "output_type": "stream",
     "text": [
      "A soma de A e B = (4+2j)\n",
      "A multiplicação de A e B = (11-2j)\n"
     ]
    }
   ],
   "source": [
    "# Definidno números complexos\n",
    "\n",
    "a = 3 + 4j\n",
    "b = 1 - 2j\n",
    "\n",
    "# Operações básicas\n",
    "\n",
    "soma = a + b\n",
    "mult = a * b\n",
    "\n",
    "print(f\"A soma de A e B = {soma}\")\n",
    "print(f\"A multiplicação de A e B = {mult}\")\n",
    "\n",
    "# saída => A soma de A e B = (4+2j)\n",
    "# saída => A multiplicação de A e B = (11+2j)"
   ]
  },
  {
   "cell_type": "code",
   "execution_count": 5,
   "metadata": {},
   "outputs": [
    {
     "name": "stdout",
     "output_type": "stream",
     "text": [
      "['maçã', 'banana', 'cereja', 'laranja']\n",
      "(1, 2, 3)\n",
      "{'nome': 'João', 'idade': 20, 'curso': 'Sistemas de Informação'}\n",
      "{1, 2, 3, 4}\n"
     ]
    }
   ],
   "source": [
    "# LISTAS\n",
    "frutas = [\"maçã\", \"banana\", \"cereja\"]\n",
    "frutas.append(\"laranja\")\n",
    "print(frutas)  \n",
    "\n",
    "# saida => ['maçã', 'banana', 'cereja', 'laranja']\n",
    "\n",
    "\n",
    "# TUPLAS\n",
    "numeros = (1, 2, 3)\n",
    "# numeros[0] = 5  # Erro!\n",
    "# tuplas não podem ser modificadas\n",
    "print(numeros)\n",
    "\n",
    "# saída => (1, 2, 3)\n",
    "\n",
    "\n",
    "# DICIONÁRIOS\n",
    "aluno = {\"nome\": \"João\", \"idade\": 20}\n",
    "aluno[\"curso\"] = \"Sistemas de Informação\"  # Adiciona um novo par\n",
    "print(aluno)  \n",
    "\n",
    "# saída => {'nome': 'João', 'idade': 20, 'curso': 'Sistemas de Informação'}\n",
    "\n",
    "\n",
    "# CONJUNTOS\n",
    "numeros_unicos = {1, 2, 3}\n",
    "numeros_unicos.add(2)  # Nada acontece (2 já está no conjunto)\n",
    "numeros_unicos.add(4)  # Adiciona o número 4\n",
    "print(numeros_unicos)  \n",
    "\n",
    "# saída => {1, 2, 3, 4}\n"
   ]
  },
  {
   "cell_type": "code",
   "execution_count": null,
   "metadata": {},
   "outputs": [
    {
     "name": "stdout",
     "output_type": "stream",
     "text": [
      "É ímpar!\n",
      "x é maior que y\n"
     ]
    }
   ],
   "source": [
    "# Verificando se um número é par ou ímpar\n",
    "\n",
    "numero = 7\n",
    "if numero % 2 == 0:\n",
    "    print(\"É par!\")\n",
    "else:\n",
    "    print(\"É ímpar!\")\n",
    "\n",
    "# saída => É ímpar!\n",
    "\n",
    "# Comparando x e Y\n",
    "\n",
    "x = 10\n",
    "y = 5\n",
    "\n",
    "if x > y:\n",
    "    print(\"x é maior que y\")\n",
    "elif x == y:\n",
    "    print(\"x é igual a y\")\n",
    "else:\n",
    "    print(\"x é menor que y\")\n",
    "\n",
    "# saída = x é maior que y\n"
   ]
  },
  {
   "cell_type": "code",
   "execution_count": 16,
   "metadata": {},
   "outputs": [
    {
     "name": "stdout",
     "output_type": "stream",
     "text": [
      "1\n",
      "2\n",
      "3\n"
     ]
    }
   ],
   "source": [
    "# Exibindo números de 1 a 3 com for\n",
    "\n",
    "for i in range(1, 4):\n",
    "    print(i)\n",
    "\n",
    "# saída\n",
    "# 1\n",
    "# 2\n",
    "# 3\n"
   ]
  },
  {
   "cell_type": "code",
   "execution_count": 17,
   "metadata": {},
   "outputs": [
    {
     "name": "stdout",
     "output_type": "stream",
     "text": [
      "1\n",
      "2\n",
      "3\n"
     ]
    }
   ],
   "source": [
    "# Exibindo números de 1 a 3 com while\n",
    "\n",
    "x = 1\n",
    "limite = 3\n",
    "\n",
    "while x <= limite:\n",
    "    print(x)\n",
    "    x += 1\n",
    "\n",
    "# saída\n",
    "# 1\n",
    "# 2\n",
    "# 3\n"
   ]
  },
  {
   "cell_type": "code",
   "execution_count": null,
   "metadata": {},
   "outputs": [],
   "source": [
    "# Operadores Aritméticos\n",
    "\n",
    "soma = 10 + 5    # Adição\n",
    "subtracao = 10 - 5  # Subtração\n",
    "multiplicacao = 10 * 5  # Multiplicação\n",
    "divisao = 10 / 5   # Divisão\n",
    "div_inteira = 10 // 5  # Divisão inteira\n",
    "modulo = 10 % 3    # Resto da divisão\n",
    "potencia = 2 ** 3  # Exponenciação"
   ]
  },
  {
   "cell_type": "code",
   "execution_count": 8,
   "metadata": {},
   "outputs": [
    {
     "name": "stdout",
     "output_type": "stream",
     "text": [
      "True\n",
      "False\n",
      "False\n",
      "True\n",
      "True\n",
      "False\n"
     ]
    }
   ],
   "source": [
    "# Exemplos de operadores\n",
    "\n",
    "print(10 > 5)   # Maior que: True\n",
    "print(10 < 5)   # Menor que: False\n",
    "print(10 == 5)  # Igual a: False\n",
    "print(10 != 5)  # Diferente de: True\n",
    "print(10 >= 5)  # Maior ou igual a: True\n",
    "print(10 <= 5)  # Menor ou igual a: False\n"
   ]
  },
  {
   "cell_type": "code",
   "execution_count": 7,
   "metadata": {},
   "outputs": [
    {
     "name": "stdout",
     "output_type": "stream",
     "text": [
      "True\n",
      "True\n",
      "False\n"
     ]
    }
   ],
   "source": [
    "# Exemplos de operadores\n",
    "\n",
    "idade = 20\n",
    "print(idade > 18 and idade < 30) # True\n",
    "print(idade > 18 or idade > 30)  # True\n",
    "print(not (idade > 18))          # False\n"
   ]
  },
  {
   "cell_type": "code",
   "execution_count": null,
   "metadata": {},
   "outputs": [
    {
     "name": "stdout",
     "output_type": "stream",
     "text": [
      "PYTHON É INCRÍVEL!\n",
      "python é incrível!\n",
      "programação é incrível!\n"
     ]
    }
   ],
   "source": [
    "texto = \" Python é incrível! \"\n",
    "print(texto.strip().upper()) # saída => PYTHON É INCRÍVEL!\n",
    "\n",
    "texto = \" Python É Incrível! \"\n",
    "print(texto.strip().lower()) # saída => python é incrível!\n",
    "\n",
    "texto = \" Python é incrível! \"\n",
    "print(texto.strip().replace(\"Python\", \"programação\"))\n",
    "# saída => programação é incrível!\n"
   ]
  },
  {
   "cell_type": "code",
   "execution_count": null,
   "metadata": {},
   "outputs": [],
   "source": [
    "# inserindo strings dentro de um variavel com imput\n",
    "\n",
    "nome = input(\"Qual é o seu nome? \")\n",
    "print(f\"Olá, {nome}! Seja bem-vindo!\")\n",
    "\n",
    "# saida => Qual é o seu nome? João\n",
    "# saida => Olá, João! Seja bem-vindo!\n",
    "\n",
    "# inserindo numeros inteiros com imput\n",
    "\n",
    "idade = int(input(\"Digite a sua idade: \"))\n",
    "print(f\"Você tem {idade} anos.\")\n",
    "\n",
    "# saida => Digite a sua idade: 25\n",
    "# saida => Você tem 25 anos.\n",
    "\n",
    "# inserindo numeros decimais com imput\n",
    "\n",
    "altura = float(input(\"Digite a sua altura em metros: \"))\n",
    "print(f\"Sua altura é {altura} metros.\")\n",
    "\n",
    "# saida => Digite a sua altura em metros: 1.75\n",
    "# saida => Sua altura é 1.75 metros."
   ]
  },
  {
   "cell_type": "code",
   "execution_count": null,
   "metadata": {},
   "outputs": [],
   "source": [
    "# Criando e escrevendo em um arquivos\n",
    "\n",
    "with open(\"arquivo.txt\", \"w\") as arquivo:\n",
    "    arquivo.write(\"Olá, mundo!\")\n",
    "\n",
    "# Lendo o arquivo\n",
    "with open(\"arquivo.txt\", \"r\") as arquivo:\n",
    "    conteudo = arquivo.read()\n",
    "    print(conteudo)\n",
    "    \n",
    "# saida => Olá, mundo!\n"
   ]
  },
  {
   "cell_type": "code",
   "execution_count": null,
   "metadata": {},
   "outputs": [],
   "source": [
    "# Loop tradicional\n",
    "\n",
    "pares = []\n",
    "for x in range(10):\n",
    "    if x % 2 == 0:\n",
    "        pares.append(x)\n",
    "\n",
    "# Loop com compreensão de lista\n",
    "\n",
    "pares = [x for x in range(10) if x % 2 == 0]\n",
    "\n",
    "# ambos os códigos tem a mesma saída: [0, 2, 4, 6, 8]"
   ]
  },
  {
   "cell_type": "code",
   "execution_count": null,
   "metadata": {},
   "outputs": [
    {
     "name": "stdout",
     "output_type": "stream",
     "text": [
      "Isso não é um número!\n"
     ]
    }
   ],
   "source": [
    "try:\n",
    "    x = int(input(\"Digite um número: \"))\n",
    "except ValueError:\n",
    "    print(\"Isso não é um número!\")\n",
    "\n",
    "# saída => Digite um número: s\n",
    "# saída => Isso não é um número!\n"
   ]
  },
  {
   "cell_type": "code",
   "execution_count": null,
   "metadata": {},
   "outputs": [],
   "source": [
    "# Definindo uma função que soma dois números\n",
    "\n",
    "def somar(a, b):\n",
    "    return a + b\n",
    "\n",
    "# Chamando a função\n",
    "resultado = somar(5, 7)\n",
    "print(f\"A soma é: {resultado}\")\n",
    "\n",
    "# saida => A soma é: 12\n"
   ]
  },
  {
   "cell_type": "code",
   "execution_count": null,
   "metadata": {},
   "outputs": [],
   "source": [
    "# Criando uma classe para representar um carro\n",
    "\n",
    "class Carro:\n",
    "    def __init__(self, marca, modelo):\n",
    "        self.marca = marca\n",
    "        self.modelo = modelo\n",
    "\n",
    "    def exibir_carro(self):\n",
    "        print(f\"Carro: {self.marca} {self.modelo}\")\n",
    "\n",
    "# Criando objetos da classe Carro\n",
    "meu_carro = Carro(\"Toyota\", \"Corolla\")\n",
    "meu_carro.exibir_carro()\n",
    "\n",
    "# saida => Carro: Toyota Corolla\n"
   ]
  },
  {
   "cell_type": "code",
   "execution_count": null,
   "metadata": {},
   "outputs": [
    {
     "name": "stdout",
     "output_type": "stream",
     "text": [
      "Escolha uma operação: soma, subtração, multiplicação, divisão\n",
      "Resultado: 8.0\n"
     ]
    }
   ],
   "source": [
    "# Exercício: Criando uma Calculadora básica com as informações acima!\n",
    "\n",
    "def calculadora():\n",
    "    print(\"Escolha uma operação: soma, subtração, multiplicação, divisão\")\n",
    "    operacao = input(\"Digite a operação: \").lower()\n",
    "\n",
    "    # Entradas do usuário\n",
    "    num1 = float(input(\"Digite o primeiro número: \"))\n",
    "    num2 = float(input(\"Digite o segundo número: \"))\n",
    "\n",
    "    # Processamento\n",
    "    if operacao == \"soma\":\n",
    "        resultado = num1 + num2\n",
    "    elif operacao == \"subtração\":\n",
    "        resultado = num1 - num2\n",
    "    elif operacao == \"multiplicação\":\n",
    "        resultado = num1 * num2\n",
    "    elif operacao == \"divisão\" and num2 != 0:\n",
    "        resultado = num1 / num2\n",
    "    else:\n",
    "        return \"Operação inválida!\"\n",
    "\n",
    "    return f\"Resultado: {resultado}\"\n",
    "\n",
    "print(calculadora())\n"
   ]
  },
  {
   "cell_type": "code",
   "execution_count": 4,
   "metadata": {},
   "outputs": [
    {
     "name": "stdout",
     "output_type": "stream",
     "text": [
      "===Calculadora===\n",
      "===Escolha uma operação abaixo digitando um dos numeros===\n",
      "1 - Somar\n",
      "2 - subtrair\n",
      "3 - multiplicar\n",
      "4 - dividir\n",
      "5 - potencia\n",
      "6 - porcentagem\n",
      "7 - sair\n",
      "100.0 / 4.0 = 25.0\n",
      "================================================================\n",
      "\n",
      "\n",
      "\n",
      "===Escolha uma operação abaixo digitando um dos numeros===\n",
      "1 - Somar\n",
      "2 - subtrair\n",
      "3 - multiplicar\n",
      "4 - dividir\n",
      "5 - potencia\n",
      "6 - porcentagem\n",
      "7 - sair\n",
      "Encerrando a Calculadora. Até logo!\n"
     ]
    }
   ],
   "source": [
    "def soma(a, b):\n",
    "    return a + b\n",
    "\n",
    "def sub(a, b):\n",
    "    return a - b\n",
    "\n",
    "def mult(a, b):\n",
    "    return a * b\n",
    "\n",
    "def div(a, b):\n",
    "    if b != 0:\n",
    "        return a / b\n",
    "    else:\n",
    "        return \"Erro: Divisão por zero!\"\n",
    "    \n",
    "def potencia(base, expoente):\n",
    "    return base ** expoente\n",
    "\n",
    "def porcentagem(total, percentual):\n",
    "    return (percentual / 100) * total\n",
    "\n",
    "def calculadora():\n",
    "    print('===Calculadora===')\n",
    "\n",
    "    while True:\n",
    "        print('===Escolha uma operação abaixo digitando um dos numeros===')\n",
    "        print('1 - Somar')\n",
    "        print('2 - subtrair')\n",
    "        print('3 - multiplicar')\n",
    "        print('4 - dividir')\n",
    "        print('5 - potencia')\n",
    "        print('6 - porcentagem')\n",
    "        print('7 - sair')\n",
    "\n",
    "        try:\n",
    "            opcao = int(input('Digite o numero de opeção desejada: '))\n",
    "\n",
    "            if opcao == 7:\n",
    "                print('Encerrando a Calculadora. Até logo!')\n",
    "                break\n",
    "\n",
    "            if opcao in [1, 2, 3, 4, 5, 6]:\n",
    "                num1 = float(input('Digite o primeiro número: '))\n",
    "\n",
    "                if opcao != 6:\n",
    "                    num2 = float(input('Digite o segundo número: '))\n",
    "\n",
    "            if opcao == 1:\n",
    "                print(f'{num1} + {num2} = {soma(num1, num2)}')\n",
    "                print('================================================================')\n",
    "                print('\\n\\n')\n",
    "            elif opcao == 2:\n",
    "                print(f'{num1} - {num2} = {sub(num1, num2)}')\n",
    "                print('================================================================')\n",
    "                print('\\n\\n')\n",
    "            elif opcao == 3:\n",
    "                print(f'{num1} * {num2} = {mult(num1, num2)}')\n",
    "                print('================================================================')\n",
    "                print('\\n\\n')\n",
    "            elif opcao == 4:\n",
    "                print(f'{num1} / {num2} = {div(num1, num2)}')\n",
    "                print('================================================================')\n",
    "                print('\\n\\n')\n",
    "            elif opcao == 5:\n",
    "                print(f'{num1} elevado a {num2} = {potencia(num1, num2)}')\n",
    "                print('================================================================')\n",
    "                print('\\n\\n')\n",
    "            elif opcao == 6:\n",
    "                percentual = float(input('Digite o percentual (%): '))\n",
    "                print(f\"{percentual}% de {num1} = {porcentagem(num1, percentual)}\")\n",
    "                print('================================================================')\n",
    "                print('\\n\\n')\n",
    "            else:\n",
    "                print(\"Opção inválida! Tente novamente.\")\n",
    "\n",
    "        except ValueError:\n",
    "            print('Erro: Por favor, insira valores válidos!')\n",
    "        except Exception as err:\n",
    "            print(f'OCorreu um erro: {err}')\n",
    "\n",
    "calculadora()"
   ]
  }
 ],
 "metadata": {
  "kernelspec": {
   "display_name": "Python 3",
   "language": "python",
   "name": "python3"
  },
  "language_info": {
   "codemirror_mode": {
    "name": "ipython",
    "version": 3
   },
   "file_extension": ".py",
   "mimetype": "text/x-python",
   "name": "python",
   "nbconvert_exporter": "python",
   "pygments_lexer": "ipython3",
   "version": "3.13.0"
  }
 },
 "nbformat": 4,
 "nbformat_minor": 4
}
