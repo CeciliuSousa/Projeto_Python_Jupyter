{
 "cells": [
  {
   "cell_type": "code",
   "execution_count": null,
   "metadata": {},
   "outputs": [],
   "source": [
    "# Comentário com apenas uma linha\n",
    "\n",
    "'''\n",
    "Comentário\n",
    "com\n",
    "várias\n",
    "linhas\n",
    "'''"
   ]
  },
  {
   "cell_type": "code",
   "execution_count": null,
   "metadata": {},
   "outputs": [
    {
     "name": "stdout",
     "output_type": "stream",
     "text": [
      "Olá, Python!\n",
      "Olá, Python!\n"
     ]
    }
   ],
   "source": [
    "# Monstrando uma mensagem na tela\n",
    "\n",
    "print('Olá, Python!')\n",
    "print(\"Olá, Python!\")"
   ]
  },
  {
   "cell_type": "code",
   "execution_count": 7,
   "metadata": {},
   "outputs": [
    {
     "name": "stdout",
     "output_type": "stream",
     "text": [
      "Cecilius tem 27 anos e 1.75 metros de altura.\n",
      "Cecilius tem 27 anos e 1.75 metros de altura.\n"
     ]
    }
   ],
   "source": [
    "# Armazenando informações\n",
    "\n",
    "nome = \"Cecilius\"\n",
    "idade = 27\n",
    "altura = 1.75\n",
    "eh_maior_de_idade = idade >= 18\n",
    "\n",
    "# Exibindo informações formatadas\n",
    "\n",
    "print(f\"{nome} tem {idade} anos e {altura} metros de altura.\")\n",
    "print(nome, \"tem\", idade, \"anos e\", altura, \"metros de altura.\")\n"
   ]
  },
  {
   "cell_type": "code",
   "execution_count": 3,
   "metadata": {},
   "outputs": [
    {
     "name": "stdout",
     "output_type": "stream",
     "text": [
      "A soma de A e B = (4+2j)\n",
      "A multiplicação de A e B = (11-2j)\n"
     ]
    }
   ],
   "source": [
    "# Definidno números complexos\n",
    "\n",
    "a = 3 + 4j\n",
    "b = 1 - 2j\n",
    "\n",
    "# Operações básicas\n",
    "\n",
    "soma = a + b\n",
    "mult = a * b\n",
    "\n",
    "print(f\"A soma de A e B = {soma}\")\n",
    "print(f\"A multiplicação de A e B = {mult}\")"
   ]
  },
  {
   "cell_type": "code",
   "execution_count": 8,
   "metadata": {},
   "outputs": [
    {
     "name": "stdout",
     "output_type": "stream",
     "text": [
      "É ímpar!\n"
     ]
    }
   ],
   "source": [
    "# Verificando se um número é par ou ímpar\n",
    "\n",
    "numero = 7\n",
    "if numero % 2 == 0:\n",
    "    print(\"É par!\")\n",
    "else:\n",
    "    print(\"É ímpar!\")"
   ]
  },
  {
   "cell_type": "code",
   "execution_count": 9,
   "metadata": {},
   "outputs": [
    {
     "name": "stdout",
     "output_type": "stream",
     "text": [
      "1\n",
      "2\n",
      "3\n",
      "4\n",
      "5\n"
     ]
    }
   ],
   "source": [
    "# Exibindo números de 1 a 5\n",
    "\n",
    "for i in range(1, 6):\n",
    "    print(i)\n"
   ]
  },
  {
   "cell_type": "code",
   "execution_count": null,
   "metadata": {},
   "outputs": [
    {
     "name": "stdout",
     "output_type": "stream",
     "text": [
      "15\n"
     ]
    }
   ],
   "source": [
    "# Operadores Aritméticos\n",
    "\n",
    "soma = 10 + 5    # Adição\n",
    "subtracao = 10 - 5  # Subtração\n",
    "multiplicacao = 10 * 5  # Multiplicação\n",
    "divisao = 10 / 5   # Divisão\n",
    "modulo = 10 % 3    # Resto da divisão\n",
    "potencia = 2 ** 3  # Exponenciação"
   ]
  },
  {
   "cell_type": "code",
   "execution_count": null,
   "metadata": {},
   "outputs": [],
   "source": [
    "# Exemplos de operadores\n",
    "\n",
    "print(10 > 5)   # Maior que: True\n",
    "print(10 < 5)   # Menor que: False\n",
    "print(10 == 5)  # Igual a: False\n",
    "print(10 != 5)  # Diferente de: True\n",
    "print(10 >= 5)  # Maior ou igual a: True\n",
    "print(10 <= 5)  # Menor ou igual a: False\n"
   ]
  },
  {
   "cell_type": "code",
   "execution_count": null,
   "metadata": {},
   "outputs": [],
   "source": [
    "# Exemplos de operadores\n",
    "\n",
    "idade = 20\n",
    "print(idade > 18 and idade < 30)\n",
    "print(idade > 18 or idade > 30)\n",
    "print(not (idade > 18))\n"
   ]
  },
  {
   "cell_type": "code",
   "execution_count": null,
   "metadata": {},
   "outputs": [],
   "source": [
    "# Criando uma Calculadora básica com as informações acima!\n",
    "\n",
    "def calculadora():\n",
    "    print(\"Escolha uma operação: soma, subtração, multiplicação, divisão\")\n",
    "    operacao = input(\"Digite a operação: \").lower()\n",
    "\n",
    "    # Entradas do usuário\n",
    "    num1 = float(input(\"Digite o primeiro número: \"))\n",
    "    num2 = float(input(\"Digite o segundo número: \"))\n",
    "\n",
    "    # Processamento\n",
    "    if operacao == \"soma\":\n",
    "        resultado = num1 + num2\n",
    "    elif operacao == \"subtração\":\n",
    "        resultado = num1 - num2\n",
    "    elif operacao == \"multiplicação\":\n",
    "        resultado = num1 * num2\n",
    "    elif operacao == \"divisão\" and num2 != 0:\n",
    "        resultado = num1 / num2\n",
    "    else:\n",
    "        return \"Operação inválida!\"\n",
    "\n",
    "    return f\"Resultado: {resultado}\"\n",
    "\n",
    "print(calculadora())\n"
   ]
  }
 ],
 "metadata": {
  "kernelspec": {
   "display_name": "Python 3",
   "language": "python",
   "name": "python3"
  },
  "language_info": {
   "codemirror_mode": {
    "name": "ipython",
    "version": 3
   },
   "file_extension": ".py",
   "mimetype": "text/x-python",
   "name": "python",
   "nbconvert_exporter": "python",
   "pygments_lexer": "ipython3",
   "version": "3.13.0"
  }
 },
 "nbformat": 4,
 "nbformat_minor": 2
}
